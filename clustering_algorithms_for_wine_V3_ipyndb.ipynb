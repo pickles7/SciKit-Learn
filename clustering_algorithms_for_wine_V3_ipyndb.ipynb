{
  "nbformat": 4,
  "nbformat_minor": 0,
  "metadata": {
    "colab": {
      "name": "clustering algorithms for wine V3.ipyndb",
      "provenance": [],
      "collapsed_sections": [],
      "toc_visible": true,
      "authorship_tag": "ABX9TyPjeVK0MBzQvJF0k7Y9UZq1",
      "include_colab_link": true
    },
    "kernelspec": {
      "name": "python3",
      "display_name": "Python 3"
    }
  },
  "cells": [
    {
      "cell_type": "markdown",
      "metadata": {
        "id": "view-in-github",
        "colab_type": "text"
      },
      "source": [
        "<a href=\"https://colab.research.google.com/github/pickles7/SciKit-Learn/blob/master/clustering_algorithms_for_wine_V3_ipyndb.ipynb\" target=\"_parent\"><img src=\"https://colab.research.google.com/assets/colab-badge.svg\" alt=\"Open In Colab\"/></a>"
      ]
    },
    {
      "cell_type": "markdown",
      "metadata": {
        "id": "X6Jp3L_1YWcA",
        "colab_type": "text"
      },
      "source": [
        "10 clustering algorithms with python\n",
        "\n",
        "https://machinelearningmastery.com/clustering-algorithms-with-python/\n",
        "\n",
        "for theory look at:\n",
        "https://scikit-learn.org/stable/modules/clustering.html"
      ]
    },
    {
      "cell_type": "markdown",
      "metadata": {
        "id": "MFQPMilwYm78",
        "colab_type": "text"
      },
      "source": [
        ">>> also brought in my wine classifier - TITANIC"
      ]
    },
    {
      "cell_type": "code",
      "metadata": {
        "id": "WLpX-t9eclqp",
        "colab_type": "code",
        "colab": {}
      },
      "source": [
        " ! pip install -q kaggle"
      ],
      "execution_count": 0,
      "outputs": []
    },
    {
      "cell_type": "markdown",
      "metadata": {
        "id": "MOuZHTuYc1uN",
        "colab_type": "text"
      },
      "source": [
        "upload kaggle.json"
      ]
    },
    {
      "cell_type": "code",
      "metadata": {
        "id": "9HBphxBDc8jh",
        "colab_type": "code",
        "colab": {}
      },
      "source": [
        "! mkdir ~/.kaggle    # NO FOR NOW"
      ],
      "execution_count": 0,
      "outputs": []
    },
    {
      "cell_type": "code",
      "metadata": {
        "id": "r_q2tb3-dDYv",
        "colab_type": "code",
        "outputId": "4ee97d1b-da55-4a27-9199-845d3ee44838",
        "colab": {
          "base_uri": "https://localhost:8080/",
          "height": 36
        }
      },
      "source": [
        "! cp kaggle.json ~/.kaggle/  # NO FOR NOW"
      ],
      "execution_count": 0,
      "outputs": [
        {
          "output_type": "stream",
          "text": [
            "cp: cannot stat 'kaggle.json': No such file or directory\n"
          ],
          "name": "stdout"
        }
      ]
    },
    {
      "cell_type": "code",
      "metadata": {
        "id": "KPz2_JDMdJKX",
        "colab_type": "code",
        "colab": {}
      },
      "source": [
        "! chmod 600 ~/.kaggle/kaggle.json  # NO FOR NOW"
      ],
      "execution_count": 0,
      "outputs": []
    },
    {
      "cell_type": "markdown",
      "metadata": {
        "id": "CDwectxndPdA",
        "colab_type": "text"
      },
      "source": [
        "# Download Data"
      ]
    },
    {
      "cell_type": "code",
      "metadata": {
        "id": "lFvBQvepd5Of",
        "colab_type": "code",
        "outputId": "15f387ca-4afe-4f1e-e911-04e35bc24ec2",
        "colab": {
          "base_uri": "https://localhost:8080/",
          "height": 468
        }
      },
      "source": [
        "!kaggle datasets list  # NO FOR NOW"
      ],
      "execution_count": 0,
      "outputs": [
        {
          "output_type": "stream",
          "text": [
            "Warning: Looks like you're using an outdated API Version, please consider updating (server 1.5.6 / client 1.5.4)\n",
            "ref                                                            title                                                size  lastUpdated          downloadCount  \n",
            "-------------------------------------------------------------  --------------------------------------------------  -----  -------------------  -------------  \n",
            "allen-institute-for-ai/CORD-19-research-challenge              COVID-19 Open Research Dataset Challenge (CORD-19)    1GB  2020-04-11 13:32:24          49847  \n",
            "roche-data-science-coalition/uncover                           UNCOVER COVID-19 Challenge                          123MB  2020-04-08 22:04:30           3026  \n",
            "fireballbyedimyrnmom/us-counties-covid-19-dataset              US counties COVID 19 dataset                        428KB  2020-04-13 12:04:39           3495  \n",
            "ryanxjhan/cbc-news-coronavirus-articles-march-26               CBC News Coronavirus/COVID-19 Articles (NLP)          6MB  2020-03-27 23:23:07            699  \n",
            "bappekim/air-pollution-in-seoul                                Air Pollution in Seoul                               20MB  2020-04-03 16:33:49           1029  \n",
            "danevans/world-bank-wdi-212-health-systems                     World Bank WDI 2.12 - Health Systems                  6KB  2020-03-29 19:00:14            972  \n",
            "vitaliymalcev/russian-passenger-air-service-20072020           Russian passenger air service 2007-2020             239KB  2020-04-02 22:27:03            551  \n",
            "eswarchandt/amazon-music-reviews                               Amazon Musicual Instruments Reviews                   5MB  2020-03-29 02:59:52            690  \n",
            "dheerajmpai/hospitals-and-beds-in-india                        Hospitals and beds in India (Statewise)               5KB  2020-03-27 14:05:50            832  \n",
            "lakritidis/identifying-influential-bloggers-techcrunch         Identifying Influential Bloggers: Techcrunch        112MB  2020-03-30 19:22:09            159  \n",
            "monogenea/birdsongs-from-europe                                Bird songs from Europe (xeno-canto)                   7GB  2020-03-23 15:35:20             96  \n",
            "trtmio/project-coviewed-subreddit-coronavirus-news-corpus      Project COVIEWED Coronavirus News Corpus             10MB  2020-04-13 04:32:33            103  \n",
            "sobhanmoosavi/us-accidents                                     US Accidents (3.0 million records)                  199MB  2020-01-17 04:45:09          13345  \n",
            "kimjihoo/coronavirusdataset                                    Data Science for COVID-19 (DS4C)                      3MB  2020-04-14 05:18:00          28129  \n",
            "sudalairajkumar/novel-corona-virus-2019-dataset                Novel Corona Virus 2019 Dataset                     743KB  2020-04-14 05:37:30         140855  \n",
            "clmentbisaillon/fake-and-real-news-dataset                     Fake and real news dataset                           41MB  2020-03-26 18:51:15           1184  \n",
            "unanimad/dataisbeautiful                                       Reddit - Data is Beautiful                           11MB  2020-04-01 12:10:09           1735  \n",
            "jessemostipak/hotel-booking-demand                             Hotel booking demand                                  1MB  2020-02-13 01:27:20          14258  \n",
            "paultimothymooney/covid19-containment-and-mitigation-measures  COVID-19 containment and mitigation measures        141KB  2020-04-13 19:20:17           1645  \n",
            "rubenssjr/brasilian-houses-to-rent                             brazilian_houses_to_rent                            282KB  2020-03-25 22:51:17           1938  \n"
          ],
          "name": "stdout"
        }
      ]
    },
    {
      "cell_type": "code",
      "metadata": {
        "id": "i-EJxNJpdUuY",
        "colab_type": "code",
        "outputId": "771d43be-77b8-4199-90a4-c54636709e68",
        "colab": {
          "base_uri": "https://localhost:8080/",
          "height": 54
        }
      },
      "source": [
        "! kaggle download -d 'Classifying wine varieties'  # NO FOR NOW"
      ],
      "execution_count": 0,
      "outputs": [
        {
          "output_type": "stream",
          "text": [
            "usage: kaggle [-h] [-v] {competitions,c,datasets,d,kernels,k,config} ...\n",
            "kaggle: error: argument command: invalid choice: 'download' (choose from 'competitions', 'c', 'datasets', 'd', 'kernels', 'k', 'config')\n"
          ],
          "name": "stdout"
        }
      ]
    },
    {
      "cell_type": "code",
      "metadata": {
        "id": "rhI6GzxQag13",
        "colab_type": "code",
        "colab": {}
      },
      "source": [
        "  # NO FOR NOW:   pd.read_csv('https://raw.githubusercontent.com/rpi-techfundamentals/fall2018-materials/master/input/train.csv')"
      ],
      "execution_count": 0,
      "outputs": []
    },
    {
      "cell_type": "markdown",
      "metadata": {
        "id": "E5cNfzNCMa9-",
        "colab_type": "text"
      },
      "source": [
        "## >>>  START HERE FOR REAL  ***"
      ]
    },
    {
      "cell_type": "markdown",
      "metadata": {
        "id": "1c7j30o0i6hf",
        "colab_type": "text"
      },
      "source": [
        "# **>>> could not find dataset -- just downloaded**\n",
        "# **wineuci.zip**\n",
        "and uploaded here\n",
        "\n",
        "(https://www.kaggle.com/brynja/wineuci)\n",
        "\n",
        "docs:  http://archive.ics.uci.edu/ml/datasets/wine"
      ]
    },
    {
      "cell_type": "code",
      "metadata": {
        "id": "uEQQVHcWjWeC",
        "colab_type": "code",
        "outputId": "07c7f02b-5fe1-46d1-b7f4-5f010d75f89e",
        "colab": {
          "base_uri": "https://localhost:8080/",
          "height": 54
        }
      },
      "source": [
        "! unzip wineuci.zip"
      ],
      "execution_count": 0,
      "outputs": [
        {
          "output_type": "stream",
          "text": [
            "Archive:  wineuci.zip\n",
            "  inflating: Wine.csv                \n"
          ],
          "name": "stdout"
        }
      ]
    },
    {
      "cell_type": "code",
      "metadata": {
        "id": "PuzTAPx0NG5r",
        "colab_type": "code",
        "colab": {}
      },
      "source": [
        "import numpy as np # linear algebra\n",
        "import pandas as pd # data processing, CSV file I/O (e.g. pd.read_csv)\n",
        "import matplotlib.pyplot as plt"
      ],
      "execution_count": 0,
      "outputs": []
    },
    {
      "cell_type": "code",
      "metadata": {
        "id": "DpXcRJ8FaEI4",
        "colab_type": "code",
        "outputId": "055db8c1-39f9-4f5b-eabc-05713a65d902",
        "colab": {
          "base_uri": "https://localhost:8080/",
          "height": 112
        }
      },
      "source": [
        "df=pd.read_csv('Wine.csv',header=None)\n",
        "df.head(2)"
      ],
      "execution_count": 0,
      "outputs": [
        {
          "output_type": "execute_result",
          "data": {
            "text/html": [
              "<div>\n",
              "<style scoped>\n",
              "    .dataframe tbody tr th:only-of-type {\n",
              "        vertical-align: middle;\n",
              "    }\n",
              "\n",
              "    .dataframe tbody tr th {\n",
              "        vertical-align: top;\n",
              "    }\n",
              "\n",
              "    .dataframe thead th {\n",
              "        text-align: right;\n",
              "    }\n",
              "</style>\n",
              "<table border=\"1\" class=\"dataframe\">\n",
              "  <thead>\n",
              "    <tr style=\"text-align: right;\">\n",
              "      <th></th>\n",
              "      <th>0</th>\n",
              "      <th>1</th>\n",
              "      <th>2</th>\n",
              "      <th>3</th>\n",
              "      <th>4</th>\n",
              "      <th>5</th>\n",
              "      <th>6</th>\n",
              "      <th>7</th>\n",
              "      <th>8</th>\n",
              "      <th>9</th>\n",
              "      <th>10</th>\n",
              "      <th>11</th>\n",
              "      <th>12</th>\n",
              "      <th>13</th>\n",
              "    </tr>\n",
              "  </thead>\n",
              "  <tbody>\n",
              "    <tr>\n",
              "      <th>0</th>\n",
              "      <td>1</td>\n",
              "      <td>14.23</td>\n",
              "      <td>1.71</td>\n",
              "      <td>2.43</td>\n",
              "      <td>15.6</td>\n",
              "      <td>127</td>\n",
              "      <td>2.80</td>\n",
              "      <td>3.06</td>\n",
              "      <td>0.28</td>\n",
              "      <td>2.29</td>\n",
              "      <td>5.64</td>\n",
              "      <td>1.04</td>\n",
              "      <td>3.92</td>\n",
              "      <td>1065</td>\n",
              "    </tr>\n",
              "    <tr>\n",
              "      <th>1</th>\n",
              "      <td>1</td>\n",
              "      <td>13.20</td>\n",
              "      <td>1.78</td>\n",
              "      <td>2.14</td>\n",
              "      <td>11.2</td>\n",
              "      <td>100</td>\n",
              "      <td>2.65</td>\n",
              "      <td>2.76</td>\n",
              "      <td>0.26</td>\n",
              "      <td>1.28</td>\n",
              "      <td>4.38</td>\n",
              "      <td>1.05</td>\n",
              "      <td>3.40</td>\n",
              "      <td>1050</td>\n",
              "    </tr>\n",
              "  </tbody>\n",
              "</table>\n",
              "</div>"
            ],
            "text/plain": [
              "   0      1     2     3     4    5   ...    8     9     10    11    12    13\n",
              "0   1  14.23  1.71  2.43  15.6  127  ...  0.28  2.29  5.64  1.04  3.92  1065\n",
              "1   1  13.20  1.78  2.14  11.2  100  ...  0.26  1.28  4.38  1.05  3.40  1050\n",
              "\n",
              "[2 rows x 14 columns]"
            ]
          },
          "metadata": {
            "tags": []
          },
          "execution_count": 7
        }
      ]
    },
    {
      "cell_type": "code",
      "metadata": {
        "id": "-ouUBn7RkExG",
        "colab_type": "code",
        "outputId": "de1b83da-bbba-4c8a-a1bc-519ed35d4f50",
        "colab": {
          "base_uri": "https://localhost:8080/",
          "height": 132
        }
      },
      "source": [
        "# add column names\n",
        "df.columns = [  'name'\n",
        "                 ,'alcohol'\n",
        "             \t,'malicAcid'\n",
        "             \t,'ash'\n",
        "            \t,'ashalcalinity'\n",
        "             \t,'magnesium'\n",
        "            \t,'totalPhenols'\n",
        "             \t,'flavanoids'\n",
        "             \t,'nonFlavanoidPhenols'\n",
        "             \t,'proanthocyanins'\n",
        "            \t,'colorIntensity'\n",
        "             \t,'hue'\n",
        "             \t,'od280_od315'\n",
        "             \t,'proline'\n",
        "                ]\n",
        "\n",
        "df.head(2)"
      ],
      "execution_count": 0,
      "outputs": [
        {
          "output_type": "execute_result",
          "data": {
            "text/html": [
              "<div>\n",
              "<style scoped>\n",
              "    .dataframe tbody tr th:only-of-type {\n",
              "        vertical-align: middle;\n",
              "    }\n",
              "\n",
              "    .dataframe tbody tr th {\n",
              "        vertical-align: top;\n",
              "    }\n",
              "\n",
              "    .dataframe thead th {\n",
              "        text-align: right;\n",
              "    }\n",
              "</style>\n",
              "<table border=\"1\" class=\"dataframe\">\n",
              "  <thead>\n",
              "    <tr style=\"text-align: right;\">\n",
              "      <th></th>\n",
              "      <th>name</th>\n",
              "      <th>alcohol</th>\n",
              "      <th>malicAcid</th>\n",
              "      <th>ash</th>\n",
              "      <th>ashalcalinity</th>\n",
              "      <th>magnesium</th>\n",
              "      <th>totalPhenols</th>\n",
              "      <th>flavanoids</th>\n",
              "      <th>nonFlavanoidPhenols</th>\n",
              "      <th>proanthocyanins</th>\n",
              "      <th>colorIntensity</th>\n",
              "      <th>hue</th>\n",
              "      <th>od280_od315</th>\n",
              "      <th>proline</th>\n",
              "    </tr>\n",
              "  </thead>\n",
              "  <tbody>\n",
              "    <tr>\n",
              "      <th>0</th>\n",
              "      <td>1</td>\n",
              "      <td>14.23</td>\n",
              "      <td>1.71</td>\n",
              "      <td>2.43</td>\n",
              "      <td>15.6</td>\n",
              "      <td>127</td>\n",
              "      <td>2.80</td>\n",
              "      <td>3.06</td>\n",
              "      <td>0.28</td>\n",
              "      <td>2.29</td>\n",
              "      <td>5.64</td>\n",
              "      <td>1.04</td>\n",
              "      <td>3.92</td>\n",
              "      <td>1065</td>\n",
              "    </tr>\n",
              "    <tr>\n",
              "      <th>1</th>\n",
              "      <td>1</td>\n",
              "      <td>13.20</td>\n",
              "      <td>1.78</td>\n",
              "      <td>2.14</td>\n",
              "      <td>11.2</td>\n",
              "      <td>100</td>\n",
              "      <td>2.65</td>\n",
              "      <td>2.76</td>\n",
              "      <td>0.26</td>\n",
              "      <td>1.28</td>\n",
              "      <td>4.38</td>\n",
              "      <td>1.05</td>\n",
              "      <td>3.40</td>\n",
              "      <td>1050</td>\n",
              "    </tr>\n",
              "  </tbody>\n",
              "</table>\n",
              "</div>"
            ],
            "text/plain": [
              "   name  alcohol  malicAcid   ash  ...  colorIntensity   hue  od280_od315  proline\n",
              "0     1    14.23       1.71  2.43  ...            5.64  1.04         3.92     1065\n",
              "1     1    13.20       1.78  2.14  ...            4.38  1.05         3.40     1050\n",
              "\n",
              "[2 rows x 14 columns]"
            ]
          },
          "metadata": {
            "tags": []
          },
          "execution_count": 8
        }
      ]
    },
    {
      "cell_type": "code",
      "metadata": {
        "id": "NGTSSRiykLFq",
        "colab_type": "code",
        "outputId": "04a9586c-8e9f-44f2-9a23-a8302c5bb9ec",
        "colab": {
          "base_uri": "https://localhost:8080/",
          "height": 298
        }
      },
      "source": [
        "# check for missing values\n",
        "df.isnull().sum()"
      ],
      "execution_count": 0,
      "outputs": [
        {
          "output_type": "execute_result",
          "data": {
            "text/plain": [
              "name                   0\n",
              "alcohol                0\n",
              "malicAcid              0\n",
              "ash                    0\n",
              "ashalcalinity          0\n",
              "magnesium              0\n",
              "totalPhenols           0\n",
              "flavanoids             0\n",
              "nonFlavanoidPhenols    0\n",
              "proanthocyanins        0\n",
              "colorIntensity         0\n",
              "hue                    0\n",
              "od280_od315            0\n",
              "proline                0\n",
              "dtype: int64"
            ]
          },
          "metadata": {
            "tags": []
          },
          "execution_count": 9
        }
      ]
    },
    {
      "cell_type": "markdown",
      "metadata": {
        "id": "5hYddgxikXRL",
        "colab_type": "text"
      },
      "source": [
        "\n",
        "# Heatmap for Correlation of Parameters\n"
      ]
    },
    {
      "cell_type": "code",
      "metadata": {
        "id": "AZ0fYbLukivx",
        "colab_type": "code",
        "outputId": "d2970ff7-2b99-4427-e7fd-ddaf4518499c",
        "colab": {
          "base_uri": "https://localhost:8080/",
          "height": 768
        }
      },
      "source": [
        "import seaborn as sns\n",
        "plt.figure(figsize=(20,10))\n",
        "corr = df[df.columns].corr()\n",
        "sns.heatmap(corr, cmap=\"YlGnBu\", annot = True)\n"
      ],
      "execution_count": 0,
      "outputs": [
        {
          "output_type": "stream",
          "text": [
            "/usr/local/lib/python3.6/dist-packages/statsmodels/tools/_testing.py:19: FutureWarning: pandas.util.testing is deprecated. Use the functions in the public API at pandas.testing instead.\n",
            "  import pandas.util.testing as tm\n"
          ],
          "name": "stderr"
        },
        {
          "output_type": "execute_result",
          "data": {
            "text/plain": [
              "<matplotlib.axes._subplots.AxesSubplot at 0x7f0b24a895f8>"
            ]
          },
          "metadata": {
            "tags": []
          },
          "execution_count": 10
        },
        {
          "output_type": "display_data",
          "data": {
            "image/png": "[encoded data removed]",
            "text/plain": [
              "<Figure size 1440x720 with 2 Axes>"
            ]
          },
          "metadata": {
            "tags": [],
            "needs_background": "light"
          }
        }
      ]
    },
    {
      "cell_type": "code",
      "metadata": {
        "id": "N3upcARRlVpK",
        "colab_type": "code",
        "outputId": "e91bc4b9-b2c1-42f2-8fc1-ab23093ce87a",
        "colab": {
          "base_uri": "https://localhost:8080/",
          "height": 226
        }
      },
      "source": [
        "# ash is least correlated so drop\n",
        "X= df.drop(['name','ash'], axis=1)\n",
        "X.head()\n",
        "df.head()\n"
      ],
      "execution_count": 0,
      "outputs": [
        {
          "output_type": "execute_result",
          "data": {
            "text/html": [
              "<div>\n",
              "<style scoped>\n",
              "    .dataframe tbody tr th:only-of-type {\n",
              "        vertical-align: middle;\n",
              "    }\n",
              "\n",
              "    .dataframe tbody tr th {\n",
              "        vertical-align: top;\n",
              "    }\n",
              "\n",
              "    .dataframe thead th {\n",
              "        text-align: right;\n",
              "    }\n",
              "</style>\n",
              "<table border=\"1\" class=\"dataframe\">\n",
              "  <thead>\n",
              "    <tr style=\"text-align: right;\">\n",
              "      <th></th>\n",
              "      <th>name</th>\n",
              "      <th>alcohol</th>\n",
              "      <th>malicAcid</th>\n",
              "      <th>ash</th>\n",
              "      <th>ashalcalinity</th>\n",
              "      <th>magnesium</th>\n",
              "      <th>totalPhenols</th>\n",
              "      <th>flavanoids</th>\n",
              "      <th>nonFlavanoidPhenols</th>\n",
              "      <th>proanthocyanins</th>\n",
              "      <th>colorIntensity</th>\n",
              "      <th>hue</th>\n",
              "      <th>od280_od315</th>\n",
              "      <th>proline</th>\n",
              "    </tr>\n",
              "  </thead>\n",
              "  <tbody>\n",
              "    <tr>\n",
              "      <th>0</th>\n",
              "      <td>1</td>\n",
              "      <td>14.23</td>\n",
              "      <td>1.71</td>\n",
              "      <td>2.43</td>\n",
              "      <td>15.6</td>\n",
              "      <td>127</td>\n",
              "      <td>2.80</td>\n",
              "      <td>3.06</td>\n",
              "      <td>0.28</td>\n",
              "      <td>2.29</td>\n",
              "      <td>5.64</td>\n",
              "      <td>1.04</td>\n",
              "      <td>3.92</td>\n",
              "      <td>1065</td>\n",
              "    </tr>\n",
              "    <tr>\n",
              "      <th>1</th>\n",
              "      <td>1</td>\n",
              "      <td>13.20</td>\n",
              "      <td>1.78</td>\n",
              "      <td>2.14</td>\n",
              "      <td>11.2</td>\n",
              "      <td>100</td>\n",
              "      <td>2.65</td>\n",
              "      <td>2.76</td>\n",
              "      <td>0.26</td>\n",
              "      <td>1.28</td>\n",
              "      <td>4.38</td>\n",
              "      <td>1.05</td>\n",
              "      <td>3.40</td>\n",
              "      <td>1050</td>\n",
              "    </tr>\n",
              "    <tr>\n",
              "      <th>2</th>\n",
              "      <td>1</td>\n",
              "      <td>13.16</td>\n",
              "      <td>2.36</td>\n",
              "      <td>2.67</td>\n",
              "      <td>18.6</td>\n",
              "      <td>101</td>\n",
              "      <td>2.80</td>\n",
              "      <td>3.24</td>\n",
              "      <td>0.30</td>\n",
              "      <td>2.81</td>\n",
              "      <td>5.68</td>\n",
              "      <td>1.03</td>\n",
              "      <td>3.17</td>\n",
              "      <td>1185</td>\n",
              "    </tr>\n",
              "    <tr>\n",
              "      <th>3</th>\n",
              "      <td>1</td>\n",
              "      <td>14.37</td>\n",
              "      <td>1.95</td>\n",
              "      <td>2.50</td>\n",
              "      <td>16.8</td>\n",
              "      <td>113</td>\n",
              "      <td>3.85</td>\n",
              "      <td>3.49</td>\n",
              "      <td>0.24</td>\n",
              "      <td>2.18</td>\n",
              "      <td>7.80</td>\n",
              "      <td>0.86</td>\n",
              "      <td>3.45</td>\n",
              "      <td>1480</td>\n",
              "    </tr>\n",
              "    <tr>\n",
              "      <th>4</th>\n",
              "      <td>1</td>\n",
              "      <td>13.24</td>\n",
              "      <td>2.59</td>\n",
              "      <td>2.87</td>\n",
              "      <td>21.0</td>\n",
              "      <td>118</td>\n",
              "      <td>2.80</td>\n",
              "      <td>2.69</td>\n",
              "      <td>0.39</td>\n",
              "      <td>1.82</td>\n",
              "      <td>4.32</td>\n",
              "      <td>1.04</td>\n",
              "      <td>2.93</td>\n",
              "      <td>735</td>\n",
              "    </tr>\n",
              "  </tbody>\n",
              "</table>\n",
              "</div>"
            ],
            "text/plain": [
              "   name  alcohol  malicAcid   ash  ...  colorIntensity   hue  od280_od315  proline\n",
              "0     1    14.23       1.71  2.43  ...            5.64  1.04         3.92     1065\n",
              "1     1    13.20       1.78  2.14  ...            4.38  1.05         3.40     1050\n",
              "2     1    13.16       2.36  2.67  ...            5.68  1.03         3.17     1185\n",
              "3     1    14.37       1.95  2.50  ...            7.80  0.86         3.45     1480\n",
              "4     1    13.24       2.59  2.87  ...            4.32  1.04         2.93      735\n",
              "\n",
              "[5 rows x 14 columns]"
            ]
          },
          "metadata": {
            "tags": []
          },
          "execution_count": 11
        }
      ]
    },
    {
      "cell_type": "code",
      "metadata": {
        "id": "4RJckalallGs",
        "colab_type": "code",
        "outputId": "4ae3ec05-b9e3-43a5-c306-bfbbc1debede",
        "colab": {
          "base_uri": "https://localhost:8080/",
          "height": 226
        }
      },
      "source": [
        "df.tail()"
      ],
      "execution_count": 0,
      "outputs": [
        {
          "output_type": "execute_result",
          "data": {
            "text/html": [
              "<div>\n",
              "<style scoped>\n",
              "    .dataframe tbody tr th:only-of-type {\n",
              "        vertical-align: middle;\n",
              "    }\n",
              "\n",
              "    .dataframe tbody tr th {\n",
              "        vertical-align: top;\n",
              "    }\n",
              "\n",
              "    .dataframe thead th {\n",
              "        text-align: right;\n",
              "    }\n",
              "</style>\n",
              "<table border=\"1\" class=\"dataframe\">\n",
              "  <thead>\n",
              "    <tr style=\"text-align: right;\">\n",
              "      <th></th>\n",
              "      <th>name</th>\n",
              "      <th>alcohol</th>\n",
              "      <th>malicAcid</th>\n",
              "      <th>ash</th>\n",
              "      <th>ashalcalinity</th>\n",
              "      <th>magnesium</th>\n",
              "      <th>totalPhenols</th>\n",
              "      <th>flavanoids</th>\n",
              "      <th>nonFlavanoidPhenols</th>\n",
              "      <th>proanthocyanins</th>\n",
              "      <th>colorIntensity</th>\n",
              "      <th>hue</th>\n",
              "      <th>od280_od315</th>\n",
              "      <th>proline</th>\n",
              "    </tr>\n",
              "  </thead>\n",
              "  <tbody>\n",
              "    <tr>\n",
              "      <th>173</th>\n",
              "      <td>3</td>\n",
              "      <td>13.71</td>\n",
              "      <td>5.65</td>\n",
              "      <td>2.45</td>\n",
              "      <td>20.5</td>\n",
              "      <td>95</td>\n",
              "      <td>1.68</td>\n",
              "      <td>0.61</td>\n",
              "      <td>0.52</td>\n",
              "      <td>1.06</td>\n",
              "      <td>7.7</td>\n",
              "      <td>0.64</td>\n",
              "      <td>1.74</td>\n",
              "      <td>740</td>\n",
              "    </tr>\n",
              "    <tr>\n",
              "      <th>174</th>\n",
              "      <td>3</td>\n",
              "      <td>13.40</td>\n",
              "      <td>3.91</td>\n",
              "      <td>2.48</td>\n",
              "      <td>23.0</td>\n",
              "      <td>102</td>\n",
              "      <td>1.80</td>\n",
              "      <td>0.75</td>\n",
              "      <td>0.43</td>\n",
              "      <td>1.41</td>\n",
              "      <td>7.3</td>\n",
              "      <td>0.70</td>\n",
              "      <td>1.56</td>\n",
              "      <td>750</td>\n",
              "    </tr>\n",
              "    <tr>\n",
              "      <th>175</th>\n",
              "      <td>3</td>\n",
              "      <td>13.27</td>\n",
              "      <td>4.28</td>\n",
              "      <td>2.26</td>\n",
              "      <td>20.0</td>\n",
              "      <td>120</td>\n",
              "      <td>1.59</td>\n",
              "      <td>0.69</td>\n",
              "      <td>0.43</td>\n",
              "      <td>1.35</td>\n",
              "      <td>10.2</td>\n",
              "      <td>0.59</td>\n",
              "      <td>1.56</td>\n",
              "      <td>835</td>\n",
              "    </tr>\n",
              "    <tr>\n",
              "      <th>176</th>\n",
              "      <td>3</td>\n",
              "      <td>13.17</td>\n",
              "      <td>2.59</td>\n",
              "      <td>2.37</td>\n",
              "      <td>20.0</td>\n",
              "      <td>120</td>\n",
              "      <td>1.65</td>\n",
              "      <td>0.68</td>\n",
              "      <td>0.53</td>\n",
              "      <td>1.46</td>\n",
              "      <td>9.3</td>\n",
              "      <td>0.60</td>\n",
              "      <td>1.62</td>\n",
              "      <td>840</td>\n",
              "    </tr>\n",
              "    <tr>\n",
              "      <th>177</th>\n",
              "      <td>3</td>\n",
              "      <td>14.13</td>\n",
              "      <td>4.10</td>\n",
              "      <td>2.74</td>\n",
              "      <td>24.5</td>\n",
              "      <td>96</td>\n",
              "      <td>2.05</td>\n",
              "      <td>0.76</td>\n",
              "      <td>0.56</td>\n",
              "      <td>1.35</td>\n",
              "      <td>9.2</td>\n",
              "      <td>0.61</td>\n",
              "      <td>1.60</td>\n",
              "      <td>560</td>\n",
              "    </tr>\n",
              "  </tbody>\n",
              "</table>\n",
              "</div>"
            ],
            "text/plain": [
              "     name  alcohol  malicAcid   ash  ...  colorIntensity   hue  od280_od315  proline\n",
              "173     3    13.71       5.65  2.45  ...             7.7  0.64         1.74      740\n",
              "174     3    13.40       3.91  2.48  ...             7.3  0.70         1.56      750\n",
              "175     3    13.27       4.28  2.26  ...            10.2  0.59         1.56      835\n",
              "176     3    13.17       2.59  2.37  ...             9.3  0.60         1.62      840\n",
              "177     3    14.13       4.10  2.74  ...             9.2  0.61         1.60      560\n",
              "\n",
              "[5 rows x 14 columns]"
            ]
          },
          "metadata": {
            "tags": []
          },
          "execution_count": 12
        }
      ]
    },
    {
      "cell_type": "code",
      "metadata": {
        "id": "vxhS_o7lmDVv",
        "colab_type": "code",
        "outputId": "8dd63920-2e47-4d6d-845a-6c354a2c4988",
        "colab": {
          "base_uri": "https://localhost:8080/",
          "height": 112
        }
      },
      "source": [
        "# labels\n",
        "Y=df.iloc[:,:1]\n",
        "Y.head(2)"
      ],
      "execution_count": 0,
      "outputs": [
        {
          "output_type": "execute_result",
          "data": {
            "text/html": [
              "<div>\n",
              "<style scoped>\n",
              "    .dataframe tbody tr th:only-of-type {\n",
              "        vertical-align: middle;\n",
              "    }\n",
              "\n",
              "    .dataframe tbody tr th {\n",
              "        vertical-align: top;\n",
              "    }\n",
              "\n",
              "    .dataframe thead th {\n",
              "        text-align: right;\n",
              "    }\n",
              "</style>\n",
              "<table border=\"1\" class=\"dataframe\">\n",
              "  <thead>\n",
              "    <tr style=\"text-align: right;\">\n",
              "      <th></th>\n",
              "      <th>name</th>\n",
              "    </tr>\n",
              "  </thead>\n",
              "  <tbody>\n",
              "    <tr>\n",
              "      <th>0</th>\n",
              "      <td>1</td>\n",
              "    </tr>\n",
              "    <tr>\n",
              "      <th>1</th>\n",
              "      <td>1</td>\n",
              "    </tr>\n",
              "  </tbody>\n",
              "</table>\n",
              "</div>"
            ],
            "text/plain": [
              "   name\n",
              "0     1\n",
              "1     1"
            ]
          },
          "metadata": {
            "tags": []
          },
          "execution_count": 13
        }
      ]
    },
    {
      "cell_type": "code",
      "metadata": {
        "id": "eTnT4dA_mXv-",
        "colab_type": "code",
        "outputId": "a50f55f2-a349-41f5-c5c2-a26908d9a782",
        "colab": {
          "base_uri": "https://localhost:8080/",
          "height": 112
        }
      },
      "source": [
        "Y.tail(2)"
      ],
      "execution_count": 0,
      "outputs": [
        {
          "output_type": "execute_result",
          "data": {
            "text/html": [
              "<div>\n",
              "<style scoped>\n",
              "    .dataframe tbody tr th:only-of-type {\n",
              "        vertical-align: middle;\n",
              "    }\n",
              "\n",
              "    .dataframe tbody tr th {\n",
              "        vertical-align: top;\n",
              "    }\n",
              "\n",
              "    .dataframe thead th {\n",
              "        text-align: right;\n",
              "    }\n",
              "</style>\n",
              "<table border=\"1\" class=\"dataframe\">\n",
              "  <thead>\n",
              "    <tr style=\"text-align: right;\">\n",
              "      <th></th>\n",
              "      <th>name</th>\n",
              "    </tr>\n",
              "  </thead>\n",
              "  <tbody>\n",
              "    <tr>\n",
              "      <th>176</th>\n",
              "      <td>3</td>\n",
              "    </tr>\n",
              "    <tr>\n",
              "      <th>177</th>\n",
              "      <td>3</td>\n",
              "    </tr>\n",
              "  </tbody>\n",
              "</table>\n",
              "</div>"
            ],
            "text/plain": [
              "     name\n",
              "176     3\n",
              "177     3"
            ]
          },
          "metadata": {
            "tags": []
          },
          "execution_count": 14
        }
      ]
    },
    {
      "cell_type": "markdown",
      "metadata": {
        "id": "YXTMS-chDy2T",
        "colab_type": "text"
      },
      "source": [
        "## Clustering Dataset\n",
        "\n",
        "***>>>  used wine dataset so this is all different***\n",
        "\n",
        "The dataset will have 1,000 examples, with two input features and one cluster per class. The clusters are visually obvious in two dimensions so that we can plot the data with a scatter plot and color the points in the plot by the assigned cluster. This will help to see, at least on the test problem, how “well” the clusters were identified.\n",
        "\n",
        "The clusters in this test problem are based on a multivariate Gaussian, and not all clustering algorithms will be effective at identifying these types of clusters. As such, the results in this tutorial should not be used as the basis for comparing the methods generally.\n",
        "\n",
        "## An example of creating and summarizing the synthetic clustering dataset is listed below."
      ]
    },
    {
      "cell_type": "markdown",
      "metadata": {
        "id": "LLAIQO9vUNlp",
        "colab_type": "text"
      },
      "source": [
        "**for all of the wine data:**\n",
        "\n",
        "  n_samples = 178\n",
        "\n",
        "  n_features = 2\n",
        "\n",
        "  n_classes = 3\n",
        "\n",
        "  number clusters = 3  (for those techniques that use this)"
      ]
    },
    {
      "cell_type": "code",
      "metadata": {
        "id": "Y0XlY-atD29V",
        "colab_type": "code",
        "outputId": "189e935c-b5f1-4656-a855-9e8175de393e",
        "colab": {
          "base_uri": "https://localhost:8080/",
          "height": 1000
        }
      },
      "source": [
        "# wine classification dataset, with only 2 features\n",
        "from numpy import where\n",
        "from sklearn.datasets import make_classification\n",
        "from matplotlib import pyplot\n",
        "# define dataset\n",
        "X, y = make_classification(n_samples=178, n_features=2, n_informative=2, n_redundant=0, n_classes=3, n_clusters_per_class=1, random_state=4)\n",
        "# create scatter plot for samples from each class\n",
        "for class_value in range(3):\n",
        "\t# get row indexes for samples with this class\n",
        "\trow_ix = where(y == class_value)\n",
        "\t# create scatter of these samples\n",
        "\tpyplot.scatter(X[row_ix, 0], X[row_ix, 1])\n",
        "\t# print out some stuff\n",
        "\tprint(row_ix)\n",
        "\tprint(X[row_ix, 0])\n",
        "# show the plot\n",
        "pyplot.show()"
      ],
      "execution_count": 0,
      "outputs": [
        {
          "output_type": "stream",
          "text": [
            "(array([  2,   8,  10,  11,  13,  22,  23,  25,  26,  27,  28,  33,  34,\n",
            "        38,  41,  45,  49,  50,  58,  64,  68,  70,  73,  74,  77,  81,\n",
            "        88,  89,  93,  94,  95, 100, 102, 103, 105, 106, 110, 113, 114,\n",
            "       115, 116, 117, 118, 121, 122, 130, 132, 136, 143, 144, 150, 151,\n",
            "       152, 154, 160, 163, 169, 172, 173, 176]),)\n",
            "[[-1.92199359 -1.10002136 -2.2046041  -0.58715087 -1.00019699 -2.00933061\n",
            "  -0.76837327 -0.61067779 -1.68597662 -0.65991851 -1.8306105  -0.82128108\n",
            "  -2.07583553 -0.35164553 -0.68462353 -1.41515146 -2.35979793 -1.6976471\n",
            "  -0.69974343 -0.7551345  -0.9277444  -2.06011936 -1.74935826  0.09109851\n",
            "  -0.6788519   0.03413233 -0.95816963 -1.49705449 -1.21128909 -0.80212268\n",
            "  -0.7626303  -0.14321405 -2.26756572  0.04860948 -0.41939989 -0.98108835\n",
            "  -0.955106   -1.5639159  -1.92594967 -0.72174654 -0.85964932 -1.11295684\n",
            "  -1.78083798 -0.53552881 -1.56430909 -1.76797493 -0.61934562 -2.45748402\n",
            "  -1.05024174 -1.19809333 -1.37320585 -1.54051822 -1.80820351 -1.6082834\n",
            "  -1.53276946  0.37383508 -0.10231134 -2.24643004 -2.76671725 -1.0162115 ]]\n",
            "(array([  0,   3,   7,   9,  14,  21,  30,  31,  32,  36,  37,  40,  42,\n",
            "        44,  46,  48,  54,  56,  59,  60,  62,  69,  71,  75,  78,  79,\n",
            "        84,  85,  86,  87,  91,  96,  97,  98,  99, 108, 111, 112, 120,\n",
            "       123, 125, 126, 131, 134, 135, 138, 139, 141, 142, 146, 148, 156,\n",
            "       158, 159, 164, 166, 168, 171, 174]),)\n",
            "[[ 1.33414322  1.91851726  1.32829167 -1.03189464  0.79654351  0.09242123\n",
            "   2.41519445  1.12431185  1.22015965  0.27537465  1.19803912  0.33008607\n",
            "   1.18822616  0.22486737  0.66193201  1.88295749  0.15360218  1.19549144\n",
            "   0.52406613  1.93302487 -0.83657318 -0.53146496  0.18609854  0.96681702\n",
            "   0.49051456  1.84761216  1.44719346  0.33844303  0.31468939  1.436568\n",
            "  -0.46461734  1.38697177 -0.26144648  1.73145866  0.5689542   0.78723018\n",
            "   0.47701337  0.58976833  2.54695166 -0.98031002 -0.01130341  0.95095453\n",
            "   1.60412292  0.96676114  1.44031668  1.81162637  1.41159932  1.25756901\n",
            "   0.78364361  2.94607221  1.55978728  0.83385418 -0.02771105  1.50406854\n",
            "   0.68573994  0.64735956  0.83078699  2.08533188  1.2066206 ]]\n",
            "(array([  1,   4,   5,   6,  12,  15,  16,  17,  18,  19,  20,  24,  29,\n",
            "        35,  39,  43,  47,  51,  52,  53,  55,  57,  61,  63,  65,  66,\n",
            "        67,  72,  76,  80,  82,  83,  90,  92, 101, 104, 107, 109, 119,\n",
            "       124, 127, 128, 129, 133, 137, 140, 145, 147, 149, 153, 155, 157,\n",
            "       161, 162, 165, 167, 170, 175, 177]),)\n",
            "[[-0.82096011 -0.02888919 -1.01622108  1.19282419  1.33196754  1.30105047\n",
            "   0.33060352  1.14128031  0.68021317  0.4447771   1.10317599  0.68262891\n",
            "   1.68419919  1.43766464  1.1863531   0.33576113  1.52861562  1.06841517\n",
            "   1.25688313  1.96983404  0.82978546  0.89802635  0.08604429  1.02391256\n",
            "   2.30041538  0.97864407  1.335928    2.19165959  0.39044208 -1.31937327\n",
            "   0.61248812  1.16224734  1.83435328 -0.59735435  1.47108198  1.44065922\n",
            "   1.53276756  0.75018549 -0.69573534  2.59697913  1.86083908  1.59905146\n",
            "   1.12977803 -0.17021771  0.4807035   2.90306097  0.53410978 -1.1492777\n",
            "   2.25540438  0.60650415  2.06518622  0.70314948  1.30216656  0.45534928\n",
            "   2.99068861  0.82053885  1.7347593   0.55394111  1.35504687]]\n"
          ],
          "name": "stdout"
        },
        {
          "output_type": "display_data",
          "data": {
            "image/png": "[encoded data removed]",
            "text/plain": [
              "<Figure size 432x288 with 1 Axes>"
            ]
          },
          "metadata": {
            "tags": [],
            "needs_background": "light"
          }
        }
      ]
    },
    {
      "cell_type": "markdown",
      "metadata": {
        "id": "poRaVrzrEW0N",
        "colab_type": "text"
      },
      "source": [
        "Running the example creates the synthetic clustering dataset, then creates a scatter plot of the input data with points colored by class label (idealized clusters).\n",
        "\n",
        "We can clearly see two distinct groups of data in two dimensions and the hope would be that an automatic clustering algorithm can detect these groupings."
      ]
    },
    {
      "cell_type": "markdown",
      "metadata": {
        "id": "Cv_-AtrVEXgb",
        "colab_type": "text"
      },
      "source": [
        "Next, we can start looking at examples of clustering algorithms applied to this dataset.\n",
        "\n",
        "I have made some minimal attempts to tune each method to the dataset."
      ]
    },
    {
      "cell_type": "markdown",
      "metadata": {
        "id": "AD4xf8aOE8Cd",
        "colab_type": "text"
      },
      "source": [
        "## Affinity Propagation\n",
        "\n",
        "Affinity Propagation involves finding a set of exemplars that best summarize the data.\n",
        "\n",
        "    We devised a method called “affinity propagation,” which takes as input measures of similarity between pairs of data points. Real-valued messages are exchanged between data points until a high-quality set of exemplars and corresponding clusters gradually emerges\n",
        "\n",
        "— Clustering by Passing Messages Between Data Points, 2007.\n",
        "\n",
        "The technique is described in the paper:\n",
        "\n",
        "    Clustering by Passing Messages Between Data Points, 2007.\n",
        "\n",
        "It is implemented via the AffinityPropagation class and the main configuration to tune is the “damping” set between 0.5 and 1, and perhaps “preference.”\n",
        "\n",
        "The complete example is listed below."
      ]
    },
    {
      "cell_type": "code",
      "metadata": {
        "id": "L0BcgkahFG0M",
        "colab_type": "code",
        "outputId": "c6dcd3a8-cd35-4494-b412-15cfe2134304",
        "colab": {
          "base_uri": "https://localhost:8080/",
          "height": 265
        }
      },
      "source": [
        "# affinity propagation clustering\n",
        "from numpy import unique\n",
        "from numpy import where\n",
        "from sklearn.datasets import make_classification\n",
        "from sklearn.cluster import AffinityPropagation\n",
        "from matplotlib import pyplot\n",
        "# define dataset\n",
        "X, _ = make_classification(n_samples=178, n_features=2, n_informative=2, n_redundant=0, n_clusters_per_class=1, random_state=4)\n",
        "# define the model\n",
        "model = AffinityPropagation(damping=0.5)\t# try 0.5\n",
        "# fit the model\n",
        "model.fit(X)\n",
        "# assign a cluster to each example\n",
        "yhat = model.predict(X)\n",
        "# retrieve unique clusters\n",
        "clusters = unique(yhat)\n",
        "# create scatter plot for samples from each cluster\n",
        "for cluster in clusters:\n",
        "\t# get row indexes for samples with this cluster\n",
        "\trow_ix = where(yhat == cluster)\n",
        "\t# create scatter of these samples\n",
        "\tpyplot.scatter(X[row_ix, 0], X[row_ix, 1])\n",
        "# show the plot\n",
        "pyplot.show()"
      ],
      "execution_count": 0,
      "outputs": [
        {
          "output_type": "display_data",
          "data": {
            "image/png": "[encoded data removed]",
            "text/plain": [
              "<Figure size 432x288 with 1 Axes>"
            ]
          },
          "metadata": {
            "tags": [],
            "needs_background": "light"
          }
        }
      ]
    },
    {
      "cell_type": "markdown",
      "metadata": {
        "id": "QT6LLt8XFrfy",
        "colab_type": "text"
      },
      "source": [
        "Running the example fits the model on the training dataset and predicts a cluster for each example in the dataset. A scatter plot is then created with points colored by their assigned cluster.\n",
        "\n",
        "In this case, I could not achieve a good result."
      ]
    },
    {
      "cell_type": "markdown",
      "metadata": {
        "id": "dH7coRJlFsHr",
        "colab_type": "text"
      },
      "source": [
        "## Agglomerative Clustering\n",
        "\n",
        "Agglomerative clustering involves merging examples until the desired number of clusters is achieved.\n",
        "\n",
        "It is a part of a broader class of hierarchical clustering methods and you can learn more here:\n",
        "\n",
        "    Hierarchical clustering, Wikipedia.\n",
        "\n",
        "It is implemented via the AgglomerativeClustering class and the main configuration to tune is the “n_clusters” set, an estimate of the number of clusters in the data, e.g. 2.\n",
        "\n",
        "The complete example is listed below."
      ]
    },
    {
      "cell_type": "code",
      "metadata": {
        "id": "Y6YuiBg4F53M",
        "colab_type": "code",
        "outputId": "2ea40ad2-c207-41e9-888f-adfe20256866",
        "colab": {
          "base_uri": "https://localhost:8080/",
          "height": 265
        }
      },
      "source": [
        "# agglomerative clustering\n",
        "from numpy import unique\n",
        "from numpy import where\n",
        "from sklearn.datasets import make_classification\n",
        "from sklearn.cluster import AgglomerativeClustering\n",
        "from matplotlib import pyplot\n",
        "# define dataset\n",
        "X, _ = make_classification(n_samples=178, n_features=2, n_informative=2, n_redundant=0, n_clusters_per_class=1, random_state=4)\n",
        "# define the model\n",
        "model = AgglomerativeClustering(n_clusters=3)   # clusters = 3\n",
        "# fit model and predict clusters\n",
        "yhat = model.fit_predict(X)\n",
        "# retrieve unique clusters\n",
        "clusters = unique(yhat)\n",
        "# create scatter plot for samples from each cluster\n",
        "for cluster in clusters:\n",
        "\t# get row indexes for samples with this cluster\n",
        "\trow_ix = where(yhat == cluster)\n",
        "\t# create scatter of these samples\n",
        "\tpyplot.scatter(X[row_ix, 0], X[row_ix, 1])\n",
        "# show the plot\n",
        "pyplot.show()"
      ],
      "execution_count": 0,
      "outputs": [
        {
          "output_type": "display_data",
          "data": {
            "image/png": "[encoded data removed]",
            "text/plain": [
              "<Figure size 432x288 with 1 Axes>"
            ]
          },
          "metadata": {
            "tags": [],
            "needs_background": "light"
          }
        }
      ]
    },
    {
      "cell_type": "markdown",
      "metadata": {
        "id": "glj3yeLVGEcb",
        "colab_type": "text"
      },
      "source": [
        "Running the example fits the model on the training dataset and predicts a cluster for each example in the dataset. A scatter plot is then created with points colored by their assigned cluster.\n",
        "\n",
        "In this case, a reasonable grouping is found."
      ]
    },
    {
      "cell_type": "markdown",
      "metadata": {
        "id": "gRAksWmKGWB8",
        "colab_type": "text"
      },
      "source": [
        "## BIRCH\n",
        "\n",
        "BIRCH Clustering (BIRCH is short for Balanced Iterative Reducing and Clustering using\n",
        "Hierarchies) involves constructing a tree structure from which cluster centroids are extracted.\n",
        "\n",
        "    BIRCH incrementally and dynamically clusters incoming multi-dimensional metric data points to try to produce the best quality clustering with the available resources (i. e., available memory and time constraints).\n",
        "\n",
        "— BIRCH: An efficient data clustering method for large databases, 1996.\n",
        "\n",
        "The technique is described in the paper:\n",
        "\n",
        "    BIRCH: An efficient data clustering method for large databases, 1996.\n",
        "\n",
        "It is implemented via the Birch class and the main configuration to tune is the “threshold” and “n_clusters” hyperparameters, the latter of which provides an estimate of the number of clusters.\n",
        "\n",
        "The complete example is listed below."
      ]
    },
    {
      "cell_type": "code",
      "metadata": {
        "id": "VlkyaOG1GdWd",
        "colab_type": "code",
        "outputId": "70856189-ba19-45f7-a0d4-c7a785e41cce",
        "colab": {
          "base_uri": "https://localhost:8080/",
          "height": 265
        }
      },
      "source": [
        "# birch clustering\n",
        "from numpy import unique\n",
        "from numpy import where\n",
        "from sklearn.datasets import make_classification\n",
        "from sklearn.cluster import Birch\n",
        "from matplotlib import pyplot\n",
        "# define dataset\n",
        "X, _ = make_classification(n_samples=1000, n_features=2, n_informative=2, n_redundant=0, n_clusters_per_class=1, random_state=4)\n",
        "# define the model\n",
        "model = Birch(threshold=0.01, n_clusters=3)   # thresh=0.01, nclusters=3\n",
        "# fit the model\n",
        "model.fit(X)\n",
        "# assign a cluster to each example\n",
        "yhat = model.predict(X)\n",
        "# retrieve unique clusters\n",
        "clusters = unique(yhat)\n",
        "# create scatter plot for samples from each cluster\n",
        "for cluster in clusters:\n",
        "\t# get row indexes for samples with this cluster\n",
        "\trow_ix = where(yhat == cluster)\n",
        "\t# create scatter of these samples\n",
        "\tpyplot.scatter(X[row_ix, 0], X[row_ix, 1])\n",
        "# show the plot\n",
        "pyplot.show()"
      ],
      "execution_count": 0,
      "outputs": [
        {
          "output_type": "display_data",
          "data": {
            "image/png": "[encoded data removed]",
            "text/plain": [
              "<Figure size 432x288 with 1 Axes>"
            ]
          },
          "metadata": {
            "tags": [],
            "needs_background": "light"
          }
        }
      ]
    },
    {
      "cell_type": "markdown",
      "metadata": {
        "id": "_iKcj6t4GpAc",
        "colab_type": "text"
      },
      "source": [
        "Running the example fits the model on the training dataset and predicts a cluster for each example in the dataset. A scatter plot is then created with points colored by their assigned cluster.\n",
        "\n",
        "In this case, an excellent grouping is found."
      ]
    },
    {
      "cell_type": "markdown",
      "metadata": {
        "id": "SHEGghn9Gu5r",
        "colab_type": "text"
      },
      "source": [
        "## DBSCAN\n",
        "\n",
        "DBSCAN Clustering (where DBSCAN is short for Density-Based Spatial Clustering of Applications with Noise) involves finding high-density areas in the domain and expanding those areas of the feature space around them as clusters.\n",
        "\n",
        "    … we present the new clustering algorithm DBSCAN relying on a density-based notion of clusters which is designed to discover clusters of arbitrary shape. DBSCAN requires only one input parameter and supports the user in determining an appropriate value for it\n",
        "\n",
        "— A Density-Based Algorithm for Discovering Clusters in Large Spatial Databases with Noise, 1996.\n",
        "\n",
        "The technique is described in the paper:\n",
        "\n",
        "    A Density-Based Algorithm for Discovering Clusters in Large Spatial Databases with Noise, 1996.\n",
        "\n",
        "It is implemented via the DBSCAN class and the main configuration to tune is the “eps” and “min_samples” hyperparameters.\n",
        "\n",
        "The complete example is listed below."
      ]
    },
    {
      "cell_type": "code",
      "metadata": {
        "id": "3HHhRTrCG3bc",
        "colab_type": "code",
        "outputId": "abc81c5a-8278-40a2-9562-6cf923d06d64",
        "colab": {
          "base_uri": "https://localhost:8080/",
          "height": 265
        }
      },
      "source": [
        "# dbscan clustering\n",
        "from numpy import unique\n",
        "from numpy import where\n",
        "from sklearn.datasets import make_classification\n",
        "from sklearn.cluster import DBSCAN\n",
        "from matplotlib import pyplot\n",
        "# define dataset\n",
        "X, _ = make_classification(n_samples=1000, n_features=2, n_informative=2, n_redundant=0, n_clusters_per_class=1, random_state=4)\n",
        "# define the model\n",
        "model = DBSCAN(eps=0.30, min_samples=9)\n",
        "# fit model and predict clusters\n",
        "yhat = model.fit_predict(X)\n",
        "# retrieve unique clusters\n",
        "clusters = unique(yhat)\n",
        "# create scatter plot for samples from each cluster\n",
        "for cluster in clusters:\n",
        "\t# get row indexes for samples with this cluster\n",
        "\trow_ix = where(yhat == cluster)\n",
        "\t# create scatter of these samples\n",
        "\tpyplot.scatter(X[row_ix, 0], X[row_ix, 1])\n",
        "# show the plot\n",
        "pyplot.show()"
      ],
      "execution_count": 0,
      "outputs": [
        {
          "output_type": "display_data",
          "data": {
            "image/png": "[encoded data removed]",
            "text/plain": [
              "<Figure size 432x288 with 1 Axes>"
            ]
          },
          "metadata": {
            "tags": [],
            "needs_background": "light"
          }
        }
      ]
    },
    {
      "cell_type": "markdown",
      "metadata": {
        "id": "GkmPVWMuG-ar",
        "colab_type": "text"
      },
      "source": [
        "Running the example fits the model on the training dataset and predicts a cluster for each example in the dataset. A scatter plot is then created with points colored by their assigned cluster.\n",
        "\n",
        "In this case, a reasonable grouping is found, although more tuning is required."
      ]
    },
    {
      "cell_type": "markdown",
      "metadata": {
        "id": "1t_AbMTIJQlb",
        "colab_type": "text"
      },
      "source": [
        "### K-Means\n",
        "\n",
        "K-Means Clustering may be the most widely known clustering algorithm and involves assigning examples to clusters in an effort to minimize the variance within each cluster.\n",
        "\n",
        "    The main purpose of this paper is to describe a process for partitioning an N-dimensional population into k sets on the basis of a sample. The process, which is called ‘k-means,’ appears to give partitions which are reasonably efficient in the sense of within-class variance.\n",
        "\n",
        "— Some methods for classification and analysis of multivariate observations, 1967.\n",
        "\n",
        "The technique is described here:\n",
        "\n",
        "    k-means clustering, Wikipedia.\n",
        "\n",
        "It is implemented via the KMeans class and the main configuration to tune is the “n_clusters” hyperparameter set to the estimated number of clusters in the data.\n",
        "\n",
        "The complete example is listed below."
      ]
    },
    {
      "cell_type": "code",
      "metadata": {
        "id": "fliR_q4tJYgd",
        "colab_type": "code",
        "outputId": "eeffb1dd-ccda-4405-d333-254edff9d5b0",
        "colab": {
          "base_uri": "https://localhost:8080/",
          "height": 265
        }
      },
      "source": [
        "# k-means clustering\n",
        "from numpy import unique\n",
        "from numpy import where\n",
        "from sklearn.datasets import make_classification\n",
        "from sklearn.cluster import KMeans\n",
        "from matplotlib import pyplot\n",
        "# define dataset\n",
        "X, _ = make_classification(n_samples=178, n_features=2, n_informative=2, n_redundant=0, n_clusters_per_class=1, random_state=4)\n",
        "# define the model\n",
        "model = KMeans(n_clusters=3)    # nclusters=3\n",
        "# fit the model\n",
        "model.fit(X)\n",
        "# assign a cluster to each example\n",
        "yhat = model.predict(X)\n",
        "# retrieve unique clusters\n",
        "clusters = unique(yhat)\n",
        "# create scatter plot for samples from each cluster\n",
        "for cluster in clusters:\n",
        "\t# get row indexes for samples with this cluster\n",
        "\trow_ix = where(yhat == cluster)\n",
        "\t# create scatter of these samples\n",
        "\tpyplot.scatter(X[row_ix, 0], X[row_ix, 1])\n",
        "# show the plot\n",
        "pyplot.show()"
      ],
      "execution_count": 0,
      "outputs": [
        {
          "output_type": "display_data",
          "data": {
            "image/png": "[encoded data removed]",
            "text/plain": [
              "<Figure size 432x288 with 1 Axes>"
            ]
          },
          "metadata": {
            "tags": [],
            "needs_background": "light"
          }
        }
      ]
    },
    {
      "cell_type": "code",
      "metadata": {
        "id": "3Jc3f19GJgBN",
        "colab_type": "code",
        "colab": {}
      },
      "source": [
        ""
      ],
      "execution_count": 0,
      "outputs": []
    },
    {
      "cell_type": "markdown",
      "metadata": {
        "id": "IbitpV7EzLnA",
        "colab_type": "text"
      },
      "source": [
        "# Mini-Batch K-Means\n",
        "\n",
        "Mini-Batch K-Means is a modified version of k-means that makes updates to the cluster centroids using mini-batches of samples rather than the entire dataset, which can make it faster for large datasets, and perhaps more robust to statistical noise.\n",
        "\n",
        "    … we propose the use of mini-batch optimization for k-means clustering. This reduces computation cost by orders of magnitude compared to the classic batch algorithm while yielding significantly better solutions than online stochastic gradient descent.\n",
        "\n",
        "— Web-Scale K-Means Clustering, 2010.\n",
        "\n",
        "The technique is described in the paper:\n",
        "\n",
        "    Web-Scale K-Means Clustering, 2010.\n",
        "\n",
        "It is implemented via the MiniBatchKMeans class and the main configuration to tune is the “n_clusters” hyperparameter set to the estimated number of clusters in the data.\n",
        "\n",
        "The complete example is listed below."
      ]
    },
    {
      "cell_type": "code",
      "metadata": {
        "id": "2mqLcsnlzY1L",
        "colab_type": "code",
        "outputId": "508f054b-d313-4e9b-a82e-bcdf3a1929e6",
        "colab": {
          "base_uri": "https://localhost:8080/",
          "height": 265
        }
      },
      "source": [
        "# mini-batch k-means clustering\n",
        "from numpy import unique\n",
        "from numpy import where\n",
        "from sklearn.datasets import make_classification\n",
        "from sklearn.cluster import MiniBatchKMeans\n",
        "from matplotlib import pyplot\n",
        "# define dataset\n",
        "X, _ = make_classification(n_samples=178, n_features=2, n_informative=2, n_redundant=0, n_clusters_per_class=1, random_state=4)\n",
        "# define the model\n",
        "model = MiniBatchKMeans(n_clusters=3)    # nclusters=3\n",
        "# fit the model\n",
        "model.fit(X)\n",
        "# assign a cluster to each example\n",
        "yhat = model.predict(X)\n",
        "# retrieve unique clusters\n",
        "clusters = unique(yhat)\n",
        "# create scatter plot for samples from each cluster\n",
        "for cluster in clusters:\n",
        "\t# get row indexes for samples with this cluster\n",
        "\trow_ix = where(yhat == cluster)\n",
        "\t# create scatter of these samples\n",
        "\tpyplot.scatter(X[row_ix, 0], X[row_ix, 1])\n",
        "# show the plot\n",
        "pyplot.show()"
      ],
      "execution_count": 0,
      "outputs": [
        {
          "output_type": "display_data",
          "data": {
            "image/png": "[encoded data removed]",
            "text/plain": [
              "<Figure size 432x288 with 1 Axes>"
            ]
          },
          "metadata": {
            "tags": [],
            "needs_background": "light"
          }
        }
      ]
    },
    {
      "cell_type": "markdown",
      "metadata": {
        "id": "C4nzpokOzt4x",
        "colab_type": "text"
      },
      "source": [
        "Running the example fits the model on the training dataset and predicts a cluster for each example in the dataset. A scatter plot is then created with points colored by their assigned cluster.\n",
        "\n",
        "In this case, a result equivalent to the standard k-means algorithm is found."
      ]
    },
    {
      "cell_type": "markdown",
      "metadata": {
        "id": "-yTMSkJS9m2s",
        "colab_type": "text"
      },
      "source": [
        "# Mean Shift\n",
        "\n",
        "Mean shift clustering involves finding and adapting centroids based on the density of examples in the feature space.\n",
        "\n",
        "    We prove for discrete data the convergence of a recursive mean shift procedure to the nearest stationary point of the underlying density function and thus its utility in detecting the modes of the density.\n",
        "\n",
        "— Mean Shift: A robust approach toward feature space analysis, 2002.\n",
        "\n",
        "The technique is described in the paper:\n",
        "\n",
        "    Mean Shift: A robust approach toward feature space analysis, 2002.\n",
        "\n",
        "It is implemented via the MeanShift class and the main configuration to tune is the “bandwidth” hyperparameter.\n",
        "\n",
        "The complete example is listed below."
      ]
    },
    {
      "cell_type": "markdown",
      "metadata": {
        "id": "EmMQHKAk-Ogv",
        "colab_type": "text"
      },
      "source": [
        "Running the example fits the model on the training dataset and predicts a cluster for each example in the dataset. A scatter plot is then created with points colored by their assigned cluster.\n",
        "\n",
        "In this case, a reasonable set of clusters are found in the data."
      ]
    },
    {
      "cell_type": "code",
      "metadata": {
        "id": "G6EunGgr9mg0",
        "colab_type": "code",
        "outputId": "4fe7b9b9-d81e-473e-81d1-8317e34032be",
        "colab": {
          "base_uri": "https://localhost:8080/",
          "height": 265
        }
      },
      "source": [
        "# mean shift clustering\n",
        "from numpy import unique\n",
        "from numpy import where\n",
        "from sklearn.datasets import make_classification\n",
        "from sklearn.cluster import MeanShift\n",
        "from matplotlib import pyplot\n",
        "# define dataset\n",
        "X, _ = make_classification(n_samples=178, n_features=2, n_informative=2, n_redundant=0, n_clusters_per_class=1, random_state=4)\n",
        "# define the model\n",
        "model = MeanShift()\n",
        "# fit model and predict clusters\n",
        "yhat = model.fit_predict(X)\n",
        "# retrieve unique clusters\n",
        "clusters = unique(yhat)\n",
        "# create scatter plot for samples from each cluster\n",
        "for cluster in clusters:\n",
        "\t# get row indexes for samples with this cluster\n",
        "\trow_ix = where(yhat == cluster)\n",
        "\t# create scatter of these samples\n",
        "\tpyplot.scatter(X[row_ix, 0], X[row_ix, 1])\n",
        "# show the plot\n",
        "pyplot.show()"
      ],
      "execution_count": 0,
      "outputs": [
        {
          "output_type": "display_data",
          "data": {
            "image/png": "[encoded data removed]",
            "text/plain": [
              "<Figure size 432x288 with 1 Axes>"
            ]
          },
          "metadata": {
            "tags": [],
            "needs_background": "light"
          }
        }
      ]
    },
    {
      "cell_type": "markdown",
      "metadata": {
        "id": "Mo0lBYat-bSc",
        "colab_type": "text"
      },
      "source": [
        "# OPTICS\n",
        "\n",
        "OPTICS clustering (where OPTICS is short for Ordering Points To Identify the Clustering Structure) is a modified version of DBSCAN described above.\n",
        "\n",
        "    We introduce a new algorithm for the purpose of cluster analysis which does not produce a clustering of a data set explicitly; but instead creates an augmented ordering of the database representing its density-based clustering structure. This cluster-ordering contains information which is equivalent to the density-based clusterings corresponding to a broad range of parameter settings.\n",
        "\n",
        "— OPTICS: ordering points to identify the clustering structure, 1999.\n",
        "\n",
        "The technique is described in the paper:\n",
        "\n",
        "    OPTICS: ordering points to identify the clustering structure, 1999.\n",
        "\n",
        "It is implemented via the OPTICS class and the main configuration to tune is the “eps” and “min_samples” hyperparameters.\n",
        "\n",
        "The complete example is listed below."
      ]
    },
    {
      "cell_type": "code",
      "metadata": {
        "id": "mTme6doQ-ieQ",
        "colab_type": "code",
        "outputId": "d20ced0d-911a-45d4-fcf9-c107a940ca61",
        "colab": {
          "base_uri": "https://localhost:8080/",
          "height": 265
        }
      },
      "source": [
        "from numpy import unique\n",
        "from numpy import where\n",
        "from sklearn.datasets import make_classification\n",
        "from sklearn.cluster import OPTICS\n",
        "from matplotlib import pyplot\n",
        "# define dataset\n",
        "X, _ = make_classification(n_samples=178, n_features=2, n_informative=2, n_redundant=0, n_clusters_per_class=1, random_state=4)\n",
        "# define the model\n",
        "model = OPTICS(eps=0.8, min_samples=10)\n",
        "# fit model and predict clusters\n",
        "yhat = model.fit_predict(X)\n",
        "# retrieve unique clusters\n",
        "clusters = unique(yhat)\n",
        "# create scatter plot for samples from each cluster\n",
        "for cluster in clusters:\n",
        "\t# get row indexes for samples with this cluster\n",
        "\trow_ix = where(yhat == cluster)\n",
        "\t# create scatter of these samples\n",
        "\tpyplot.scatter(X[row_ix, 0], X[row_ix, 1])\n",
        "# show the plot\n",
        "pyplot.show()"
      ],
      "execution_count": 0,
      "outputs": [
        {
          "output_type": "display_data",
          "data": {
            "image/png": "[encoded data removed]",
            "text/plain": [
              "<Figure size 432x288 with 1 Axes>"
            ]
          },
          "metadata": {
            "tags": [],
            "needs_background": "light"
          }
        }
      ]
    },
    {
      "cell_type": "markdown",
      "metadata": {
        "id": "N7QG_q2U-292",
        "colab_type": "text"
      },
      "source": [
        "Running the example fits the model on the training dataset and predicts a cluster for each example in the dataset. A scatter plot is then created with points colored by their assigned cluster.\n",
        "\n",
        "In this case, I could not achieve a reasonable result on this dataset."
      ]
    },
    {
      "cell_type": "markdown",
      "metadata": {
        "id": "MC2dcf10-57c",
        "colab_type": "text"
      },
      "source": [
        "# Spectral Clustering\n",
        "\n",
        "Spectral Clustering is a general class of clustering methods, drawn from linear algebra.\n",
        "\n",
        "    A promising alternative that has recently emerged in a number of fields is to use spectral methods for clustering. Here, one uses the top eigenvectors of a matrix derived from the distance between points.\n",
        "\n",
        "— On Spectral Clustering: Analysis and an algorithm, 2002.\n",
        "\n",
        "The technique is described in the paper:\n",
        "\n",
        "    On Spectral Clustering: Analysis and an algorithm, 2002.\n",
        "\n",
        "It is implemented via the SpectralClustering class and the main Spectral Clustering is a general class of clustering methods, drawn from linear algebra. to tune is the “n_clusters” hyperparameter used to specify the estimated number of clusters in the data.\n",
        "\n",
        "The complete example is listed below."
      ]
    },
    {
      "cell_type": "markdown",
      "metadata": {
        "id": "rnVhuiSP_ZCz",
        "colab_type": "text"
      },
      "source": [
        "Running the example fits the model on the training dataset and predicts a cluster for each example in the dataset. A scatter plot is then created with points colored by their assigned cluster.\n",
        "\n",
        "In this case, reasonable clusters were found."
      ]
    },
    {
      "cell_type": "code",
      "metadata": {
        "id": "I6sO5TH8_CsG",
        "colab_type": "code",
        "outputId": "aa79db0d-8bbc-4b48-8c3a-c82ed84edd0b",
        "colab": {
          "base_uri": "https://localhost:8080/",
          "height": 265
        }
      },
      "source": [
        "# spectral clustering\n",
        "from numpy import unique\n",
        "from numpy import where\n",
        "from sklearn.datasets import make_classification\n",
        "from sklearn.cluster import SpectralClustering\n",
        "from matplotlib import pyplot\n",
        "# define dataset\n",
        "X, _ = make_classification(n_samples=178, n_features=2, n_informative=2, n_redundant=0, n_clusters_per_class=1, random_state=4)\n",
        "# define the model\n",
        "model = SpectralClustering(n_clusters=3)   # nclusters=3\n",
        "# fit model and predict clusters\n",
        "yhat = model.fit_predict(X)\n",
        "# retrieve unique clusters\n",
        "clusters = unique(yhat)\n",
        "# create scatter plot for samples from each cluster\n",
        "for cluster in clusters:\n",
        "\t# get row indexes for samples with this cluster\n",
        "\trow_ix = where(yhat == cluster)\n",
        "\t# create scatter of these samples\n",
        "\tpyplot.scatter(X[row_ix, 0], X[row_ix, 1])\n",
        "# show the plot\n",
        "pyplot.show()"
      ],
      "execution_count": 0,
      "outputs": [
        {
          "output_type": "display_data",
          "data": {
            "image/png": "[encoded data removed]",
            "text/plain": [
              "<Figure size 432x288 with 1 Axes>"
            ]
          },
          "metadata": {
            "tags": [],
            "needs_background": "light"
          }
        }
      ]
    },
    {
      "cell_type": "markdown",
      "metadata": {
        "id": "HJb2MzAv_kj0",
        "colab_type": "text"
      },
      "source": [
        "# Gaussian Mixture Model\n",
        "\n",
        "A Gaussian mixture model summarizes a multivariate probability density function with a mixture of Gaussian probability distributions as its name suggests.\n",
        "\n",
        "For more on the model, see:\n",
        "\n",
        "    Mixture model, Wikipedia.\n",
        "\n",
        "It is implemented via the GaussianMixture class and the main configuration to tune is the “n_clusters” hyperparameter used to specify the estimated number of clusters in the data.\n",
        "\n",
        "The complete example is listed below."
      ]
    },
    {
      "cell_type": "markdown",
      "metadata": {
        "id": "tSz2aj5K_rc-",
        "colab_type": "text"
      },
      "source": [
        "Running the example fits the model on the training dataset and predicts a cluster for each example in the dataset. A scatter plot is then created with points colored by their assigned cluster.\n",
        "\n",
        "In this case, we can see that the clusters were identified perfectly. This is not surprising given that the dataset was generated as a mixture of Gaussians."
      ]
    },
    {
      "cell_type": "markdown",
      "metadata": {
        "id": "X0oCEv15AaJx",
        "colab_type": "text"
      },
      "source": [
        "Running the example fits the model on the training dataset and predicts a cluster for each example in the dataset. A scatter plot is then created with points colored by their assigned cluster.\n",
        "\n",
        "In this case, we can see that the clusters were identified perfectly. This is not surprising given that the dataset was generated as a mixture of Gaussians."
      ]
    },
    {
      "cell_type": "code",
      "metadata": {
        "id": "vXDJ4aik_tWx",
        "colab_type": "code",
        "outputId": "3d01ab88-ae7c-450d-be26-e31279d1bf34",
        "colab": {
          "base_uri": "https://localhost:8080/",
          "height": 265
        }
      },
      "source": [
        "# gaussian mixture clustering\n",
        "from numpy import unique\n",
        "from numpy import where\n",
        "from sklearn.datasets import make_classification\n",
        "from sklearn.mixture import GaussianMixture\n",
        "from matplotlib import pyplot\n",
        "# define dataset\n",
        "X, _ = make_classification(n_samples=178, n_features=2, n_informative=2, n_redundant=0, n_clusters_per_class=1, random_state=4)\n",
        "# define the model\n",
        "model = GaussianMixture(n_components=3)   # nclusters=3  (ncomponents?)\n",
        "# fit the model\n",
        "model.fit(X)\n",
        "# assign a cluster to each example\n",
        "yhat = model.predict(X)\n",
        "# retrieve unique clusters\n",
        "clusters = unique(yhat)\n",
        "# create scatter plot for samples from each cluster\n",
        "for cluster in clusters:\n",
        "\t# get row indexes for samples with this cluster\n",
        "\trow_ix = where(yhat == cluster)\n",
        "\t# create scatter of these samples\n",
        "\tpyplot.scatter(X[row_ix, 0], X[row_ix, 1])\n",
        "# show the plot\n",
        "pyplot.show()"
      ],
      "execution_count": 0,
      "outputs": [
        {
          "output_type": "display_data",
          "data": {
            "image/png": "[encoded data removed]",
            "text/plain": [
              "<Figure size 432x288 with 1 Axes>"
            ]
          },
          "metadata": {
            "tags": [],
            "needs_background": "light"
          }
        }
      ]
    },
    {
      "cell_type": "markdown",
      "metadata": {
        "id": "9uWPrRiDAi29",
        "colab_type": "text"
      },
      "source": [
        "\n",
        "\n",
        "# Further Reading\n",
        "\n",
        "This section provides more resources on the topic if you are looking to go deeper.\n",
        "Papers\n",
        "\n",
        "    Clustering by Passing Messages Between Data Points, 2007.\n",
        "    BIRCH: An efficient data clustering method for large databases, 1996.\n",
        "    A Density-Based Algorithm for Discovering Clusters in Large Spatial Databases with Noise, 1996.\n",
        "    Some methods for classification and analysis of multivariate observations, 1967.\n",
        "    Web-Scale K-Means Clustering, 2010.\n",
        "    Mean Shift: A robust approach toward feature space analysis, 2002.\n",
        "    On Spectral Clustering: Analysis and an algorithm, 2002.\n",
        "\n",
        "Books\n",
        "\n",
        "    Data Mining: Practical Machine Learning Tools and Techniques, 2016.\n",
        "    The Elements of Statistical Learning: Data Mining, Inference, and Prediction, 2016.\n",
        "    Machine Learning: A Probabilistic Perspective, 2012.\n",
        "\n",
        "APIs\n",
        "\n",
        "    Clustering, scikit-learn API.\n",
        "    sklearn.datasets.make_classification API.\n",
        "    sklearn.cluster API.\n",
        "\n",
        "Articles\n",
        "\n",
        "    Cluster analysis, Wikipedia.\n",
        "    Hierarchical clustering, Wikipedia.\n",
        "    k-means clustering, Wikipedia.\n",
        "    Mixture model, Wikipedia.\n",
        "\n",
        "Summary\n",
        "\n",
        "In this tutorial, you discovered how to fit and use top clustering algorithms in python.\n",
        "\n",
        "Specifically, you learned:\n",
        "\n",
        "    Clustering is an unsupervised problem of finding natural groups in the feature space of input data.\n",
        "    There are many different clustering algorithms, and no single best method for all datasets.\n",
        "    How to implement, fit, and use top clustering algorithms in Python with the scikit-learn machine learning library.\n",
        "\n",
        "Do you have any questions?\n",
        "Ask your questions in the comments below and I will do my best to answer."
      ]
    }
  ]
}